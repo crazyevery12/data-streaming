{
 "cells": [
  {
   "cell_type": "code",
   "execution_count": 28,
   "id": "9ae1ad58-2737-4dec-a071-e4af159e47f5",
   "metadata": {},
   "outputs": [],
   "source": [
    "import sys\n",
    "import findspark\n",
    "findspark.init()\n",
    "\n",
    "import os\n",
    "import re\n",
    "import json\n",
    "\n",
    "from operator import add\n",
    "from pyspark import SparkContext, SparkConf, SQLContext\n",
    "from pyspark.sql import SparkSession"
   ]
  },
  {
   "cell_type": "code",
   "execution_count": 2,
   "id": "7202e705-8c66-4a9a-a5df-ecf3ebd622d5",
   "metadata": {},
   "outputs": [],
   "source": [
    "def get_keyval(row):\n",
    "\n",
    "    # get the text from the row entry\n",
    "    reviewText=row.reviewText\n",
    "    \n",
    "    reviewText=re.sub(\"\\\\W\",\" \",str(reviewText))\n",
    "        \n",
    "    #lower case text and split by space to get the words\n",
    "    words = reviewText.lower().split(\" \")\n",
    "\n",
    "    #for each word, send back a count of 1\n",
    "    #send a list of lists\n",
    "    return [[w, 1] for w in words]"
   ]
  },
  {
   "cell_type": "code",
   "execution_count": 3,
   "id": "2073d104-c2f1-484a-bc02-0e15eeee2ae5",
   "metadata": {
    "tags": []
   },
   "outputs": [],
   "source": [
    "conf = (SparkConf ()\n",
    "            . setMaster(\"local[20]\")\n",
    "            . setAppName(\"Word count\")\n",
    "            . set(\"spark.executor.memory\", \"2g\"))\n",
    "\n",
    "sc = SparkContext(conf=conf)"
   ]
  },
  {
   "cell_type": "code",
   "execution_count": 18,
   "id": "0a3b460d-badc-402a-983b-d6efedc2d345",
   "metadata": {},
   "outputs": [],
   "source": [
    "sqlContext = SQLContext (sc)\n",
    "\n",
    "df = sqlContext.read.json('data/Software_5.json')\n",
    "df.createOrReplaceTempView(\"json_view\")\n",
    "\n",
    "dfNew=sqlContext.sql(\"select reviewText from json_view\")\n"
   ]
  },
  {
   "cell_type": "code",
   "execution_count": 30,
   "id": "b6203763-7c05-4387-ae46-47b8ee565598",
   "metadata": {
    "tags": []
   },
   "outputs": [],
   "source": [
    "mapped_rdd = df.rdd.flatMap (lambda row: get_keyval (row))\n",
    "counts_rdd = mapped_rdd.reduceByKey (add)\n",
    "word_count = counts_rdd.collect()\n",
    "\n",
    "\n",
    "with open('output/res.json', 'w') as f:\n",
    "    json.dump(word_count,f,indent=4)\n",
    "# for e in word_count:\n",
    "#         print (e)\n"
   ]
  },
  {
   "cell_type": "code",
   "execution_count": null,
   "id": "2d2ea177-367d-4287-b13b-557b030e55f8",
   "metadata": {
    "tags": []
   },
   "outputs": [],
   "source": [
    "# W I P\n",
    "query = df \\\n",
    "  .selectExpr(\"CAST(reviewerID AS STRING) AS key\", \"reviewText AS value\") \\\n",
    "  .writeStream \\\n",
    "  .format(\"kafka\") \\\n",
    "  .option(\"kafka.bootstrap.servers\", \"host1:port1,host2:port2\") \\\n",
    "  .option(\"Data-Streaming\") \\\n",
    "  .option(\"checkpointLocation\", \"/HDFS\") \\\n",
    "  .start()"
   ]
  }
 ],
 "metadata": {
  "kernelspec": {
   "display_name": "Python 3 (ipykernel)",
   "language": "python",
   "name": "python3"
  },
  "language_info": {
   "codemirror_mode": {
    "name": "ipython",
    "version": 3
   },
   "file_extension": ".py",
   "mimetype": "text/x-python",
   "name": "python",
   "nbconvert_exporter": "python",
   "pygments_lexer": "ipython3",
   "version": "3.7.0"
  }
 },
 "nbformat": 4,
 "nbformat_minor": 5
}
