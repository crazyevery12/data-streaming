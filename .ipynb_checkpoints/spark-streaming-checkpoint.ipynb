{
 "cells": [
  {
   "cell_type": "markdown",
   "metadata": {},
   "source": [
    "### Kaggle API\n",
    "\n",
    "https://www.kaggle.com/docs/api\n"
   ]
  },
  {
   "cell_type": "code",
   "execution_count": null,
   "metadata": {},
   "outputs": [],
   "source": [
    "#!pip install kaggle"
   ]
  },
  {
   "cell_type": "code",
   "execution_count": null,
   "metadata": {},
   "outputs": [],
   "source": [
    "#!mkdir ~/.kaggle\n",
    "#!cp ~/Downloads/kaggle.json ~/.kaggle/kaggle.json"
   ]
  },
  {
   "cell_type": "code",
   "execution_count": null,
   "metadata": {},
   "outputs": [],
   "source": [
    "!kaggle datasets list -s 'fraud detection'"
   ]
  },
  {
   "cell_type": "markdown",
   "metadata": {},
   "source": [
    "https://www.kaggle.com/ntnu-testimon/paysim1"
   ]
  },
  {
   "cell_type": "code",
   "execution_count": null,
   "metadata": {},
   "outputs": [],
   "source": [
    "!kaggle datasets download -d 'ntnu-testimon/paysim1'"
   ]
  },
  {
   "cell_type": "code",
   "execution_count": null,
   "metadata": {},
   "outputs": [],
   "source": [
    "#!sudo apt-get install unzip\n",
    "!unzip paysim1.zip -d data/"
   ]
  },
  {
   "cell_type": "code",
   "execution_count": null,
   "metadata": {},
   "outputs": [],
   "source": [
    "#!rm -rf paysim1.zip"
   ]
  },
  {
   "cell_type": "code",
   "execution_count": null,
   "metadata": {},
   "outputs": [],
   "source": [
    "!mv data/PS_20174392719_1491204439457_log.csv data/paysim.csv"
   ]
  },
  {
   "cell_type": "code",
   "execution_count": null,
   "metadata": {},
   "outputs": [],
   "source": [
    "#!pip install pyspark"
   ]
  },
  {
   "cell_type": "markdown",
   "metadata": {},
   "source": [
    "https://www.kaggle.com/ntnu-testimon/paysim1"
   ]
  },
  {
   "cell_type": "code",
   "execution_count": 1,
   "metadata": {},
   "outputs": [
    {
     "data": {
      "application/javascript": [
       "\n",
       "            setTimeout(function() {\n",
       "                var nbb_cell_id = 1;\n",
       "                var nbb_unformatted_code = \"%load_ext nb_black\\nfrom pyspark.sql import SparkSession\\nimport pyspark.sql.functions as F\\nimport pyspark.sql.types as T\\n\\nspark = SparkSession.builder.getOrCreate()\";\n",
       "                var nbb_formatted_code = \"%load_ext nb_black\\nfrom pyspark.sql import SparkSession\\nimport pyspark.sql.functions as F\\nimport pyspark.sql.types as T\\n\\nspark = SparkSession.builder.getOrCreate()\";\n",
       "                var nbb_cells = Jupyter.notebook.get_cells();\n",
       "                for (var i = 0; i < nbb_cells.length; ++i) {\n",
       "                    if (nbb_cells[i].input_prompt_number == nbb_cell_id) {\n",
       "                        if (nbb_cells[i].get_text() == nbb_unformatted_code) {\n",
       "                             nbb_cells[i].set_text(nbb_formatted_code);\n",
       "                        }\n",
       "                        break;\n",
       "                    }\n",
       "                }\n",
       "            }, 500);\n",
       "            "
      ],
      "text/plain": [
       "<IPython.core.display.Javascript object>"
      ]
     },
     "metadata": {},
     "output_type": "display_data"
    }
   ],
   "source": [
    "%load_ext nb_black\n",
    "from pyspark.sql import SparkSession\n",
    "import pyspark.sql.functions as F\n",
    "import pyspark.sql.types as T\n",
    "\n",
    "spark = SparkSession.builder.getOrCreate()"
   ]
  },
  {
   "cell_type": "code",
   "execution_count": 2,
   "metadata": {},
   "outputs": [
    {
     "data": {
      "application/javascript": [
       "\n",
       "            setTimeout(function() {\n",
       "                var nbb_cell_id = 2;\n",
       "                var nbb_unformatted_code = \"df = spark.read.csv(\\\"data/paysim.csv\\\", header=True, inferSchema=True)\";\n",
       "                var nbb_formatted_code = \"df = spark.read.csv(\\\"data/paysim.csv\\\", header=True, inferSchema=True)\";\n",
       "                var nbb_cells = Jupyter.notebook.get_cells();\n",
       "                for (var i = 0; i < nbb_cells.length; ++i) {\n",
       "                    if (nbb_cells[i].input_prompt_number == nbb_cell_id) {\n",
       "                        if (nbb_cells[i].get_text() == nbb_unformatted_code) {\n",
       "                             nbb_cells[i].set_text(nbb_formatted_code);\n",
       "                        }\n",
       "                        break;\n",
       "                    }\n",
       "                }\n",
       "            }, 500);\n",
       "            "
      ],
      "text/plain": [
       "<IPython.core.display.Javascript object>"
      ]
     },
     "metadata": {},
     "output_type": "display_data"
    }
   ],
   "source": [
    "df = spark.read.csv(\"data/paysim.csv\", header=True, inferSchema=True)"
   ]
  },
  {
   "cell_type": "code",
   "execution_count": 3,
   "metadata": {},
   "outputs": [
    {
     "data": {
      "text/plain": [
       "['step',\n",
       " 'type',\n",
       " 'amount',\n",
       " 'nameOrig',\n",
       " 'oldbalanceOrg',\n",
       " 'newbalanceOrig',\n",
       " 'nameDest',\n",
       " 'oldbalanceDest',\n",
       " 'newbalanceDest',\n",
       " 'isFraud',\n",
       " 'isFlaggedFraud']"
      ]
     },
     "execution_count": 3,
     "metadata": {},
     "output_type": "execute_result"
    },
    {
     "data": {
      "application/javascript": [
       "\n",
       "            setTimeout(function() {\n",
       "                var nbb_cell_id = 3;\n",
       "                var nbb_unformatted_code = \"df.columns\";\n",
       "                var nbb_formatted_code = \"df.columns\";\n",
       "                var nbb_cells = Jupyter.notebook.get_cells();\n",
       "                for (var i = 0; i < nbb_cells.length; ++i) {\n",
       "                    if (nbb_cells[i].input_prompt_number == nbb_cell_id) {\n",
       "                        if (nbb_cells[i].get_text() == nbb_unformatted_code) {\n",
       "                             nbb_cells[i].set_text(nbb_formatted_code);\n",
       "                        }\n",
       "                        break;\n",
       "                    }\n",
       "                }\n",
       "            }, 500);\n",
       "            "
      ],
      "text/plain": [
       "<IPython.core.display.Javascript object>"
      ]
     },
     "metadata": {},
     "output_type": "display_data"
    }
   ],
   "source": [
    "df.columns"
   ]
  },
  {
   "cell_type": "code",
   "execution_count": 4,
   "metadata": {},
   "outputs": [
    {
     "data": {
      "application/javascript": [
       "\n",
       "            setTimeout(function() {\n",
       "                var nbb_cell_id = 4;\n",
       "                var nbb_unformatted_code = \"df = df.drop(\\\"isFraud\\\", \\\"isFlaggedFraud\\\")\";\n",
       "                var nbb_formatted_code = \"df = df.drop(\\\"isFraud\\\", \\\"isFlaggedFraud\\\")\";\n",
       "                var nbb_cells = Jupyter.notebook.get_cells();\n",
       "                for (var i = 0; i < nbb_cells.length; ++i) {\n",
       "                    if (nbb_cells[i].input_prompt_number == nbb_cell_id) {\n",
       "                        if (nbb_cells[i].get_text() == nbb_unformatted_code) {\n",
       "                             nbb_cells[i].set_text(nbb_formatted_code);\n",
       "                        }\n",
       "                        break;\n",
       "                    }\n",
       "                }\n",
       "            }, 500);\n",
       "            "
      ],
      "text/plain": [
       "<IPython.core.display.Javascript object>"
      ]
     },
     "metadata": {},
     "output_type": "display_data"
    }
   ],
   "source": [
    "df = df.drop(\"isFraud\", \"isFlaggedFraud\")"
   ]
  },
  {
   "cell_type": "code",
   "execution_count": 5,
   "metadata": {},
   "outputs": [
    {
     "name": "stdout",
     "output_type": "stream",
     "text": [
      "+----+-------+-------+-----------+-------------+--------------+-----------+--------------+--------------+\n",
      "|step|   type| amount|   nameOrig|oldbalanceOrg|newbalanceOrig|   nameDest|oldbalanceDest|newbalanceDest|\n",
      "+----+-------+-------+-----------+-------------+--------------+-----------+--------------+--------------+\n",
      "|   1|PAYMENT|9839.64|C1231006815|     170136.0|     160296.36|M1979787155|           0.0|           0.0|\n",
      "|   1|PAYMENT|1864.28|C1666544295|      21249.0|      19384.72|M2044282225|           0.0|           0.0|\n",
      "+----+-------+-------+-----------+-------------+--------------+-----------+--------------+--------------+\n",
      "only showing top 2 rows\n",
      "\n"
     ]
    },
    {
     "data": {
      "application/javascript": [
       "\n",
       "            setTimeout(function() {\n",
       "                var nbb_cell_id = 5;\n",
       "                var nbb_unformatted_code = \"df.show(2)\";\n",
       "                var nbb_formatted_code = \"df.show(2)\";\n",
       "                var nbb_cells = Jupyter.notebook.get_cells();\n",
       "                for (var i = 0; i < nbb_cells.length; ++i) {\n",
       "                    if (nbb_cells[i].input_prompt_number == nbb_cell_id) {\n",
       "                        if (nbb_cells[i].get_text() == nbb_unformatted_code) {\n",
       "                             nbb_cells[i].set_text(nbb_formatted_code);\n",
       "                        }\n",
       "                        break;\n",
       "                    }\n",
       "                }\n",
       "            }, 500);\n",
       "            "
      ],
      "text/plain": [
       "<IPython.core.display.Javascript object>"
      ]
     },
     "metadata": {},
     "output_type": "display_data"
    }
   ],
   "source": [
    "df.show(2)"
   ]
  },
  {
   "cell_type": "markdown",
   "metadata": {},
   "source": [
    "Step maps a unit of time in the real world. In this case 1 step is 1 hour of time. So we can assume for this example that we have another job that runs every hour and gets all the transactions in that time frame."
   ]
  },
  {
   "cell_type": "code",
   "execution_count": 6,
   "metadata": {},
   "outputs": [
    {
     "name": "stdout",
     "output_type": "stream",
     "text": [
      "+----+-----+\n",
      "|step|count|\n",
      "+----+-----+\n",
      "| 148|   12|\n",
      "| 463|   10|\n",
      "| 471| 2620|\n",
      "+----+-----+\n",
      "only showing top 3 rows\n",
      "\n"
     ]
    },
    {
     "data": {
      "application/javascript": [
       "\n",
       "            setTimeout(function() {\n",
       "                var nbb_cell_id = 6;\n",
       "                var nbb_unformatted_code = \"df.groupBy(\\\"step\\\").count().show(3)\";\n",
       "                var nbb_formatted_code = \"df.groupBy(\\\"step\\\").count().show(3)\";\n",
       "                var nbb_cells = Jupyter.notebook.get_cells();\n",
       "                for (var i = 0; i < nbb_cells.length; ++i) {\n",
       "                    if (nbb_cells[i].input_prompt_number == nbb_cell_id) {\n",
       "                        if (nbb_cells[i].get_text() == nbb_unformatted_code) {\n",
       "                             nbb_cells[i].set_text(nbb_formatted_code);\n",
       "                        }\n",
       "                        break;\n",
       "                    }\n",
       "                }\n",
       "            }, 500);\n",
       "            "
      ],
      "text/plain": [
       "<IPython.core.display.Javascript object>"
      ]
     },
     "metadata": {},
     "output_type": "display_data"
    }
   ],
   "source": [
    "df.groupBy(\"step\").count().show(3)"
   ]
  },
  {
   "cell_type": "markdown",
   "metadata": {},
   "source": [
    "We can therefore save the output of that job by filtering on each step and saving it to a separate file. "
   ]
  },
  {
   "cell_type": "code",
   "execution_count": null,
   "metadata": {},
   "outputs": [],
   "source": [
    "#%%time\n",
    "# steps = df.select(\"step\").distinct().collect()\n",
    "# for step in steps[:]:\n",
    "#    _df = df.where(f\"step = {step[0]}\")\n",
    "#    #by adding coalesce(1) we save the dataframe to one file\n",
    "#    _df.coalesce(1).write.mode(\"append\").option(\"header\", \"true\").csv(\"data/paysim\")"
   ]
  },
  {
   "cell_type": "code",
   "execution_count": 7,
   "metadata": {},
   "outputs": [
    {
     "name": "stdout",
     "output_type": "stream",
     "text": [
      "_SUCCESS\r\n",
      "part-00000-00a6a886-37da-40fc-9088-a7c669c6775b-c000.csv\r\n",
      "part-00000-02067aa3-417a-4b49-957f-d29dff8d0cc7-c000.csv\r\n",
      "part-00000-02801436-5256-40d0-8594-05946796c8c8-c000.csv\r\n",
      "part-00000-028c38bc-f605-4f0e-bb80-065f67a38a5d-c000.csv\r\n",
      "part-00000-02c91406-2a3b-413f-91eb-8dc4c303ffc5-c000.csv\r\n",
      "part-00000-030871ee-3597-4d8e-8e56-f888562f0a59-c000.csv\r\n",
      "part-00000-0371e0ed-f208-4dc3-8ba1-c806f485ab18-c000.csv\r\n",
      "part-00000-0459d245-7fe6-477d-a1dd-0d4f5c20e16f-c000.csv\r\n",
      "part-00000-059447a9-168e-47bf-9537-db400f7cea11-c000.csv\r\n",
      "part-00000-05f0b62c-22dc-40e8-bd41-222736e04b1f-c000.csv\r\n",
      "part-00000-078f6719-0160-4a96-840e-e3dedd1f7099-c000.csv\r\n",
      "part-00000-0ad82d2f-b04b-4aea-a051-6a37c6997c70-c000.csv\r\n",
      "part-00000-0ade5007-5a1e-42cf-8722-1c16d13d4f42-c000.csv\r\n",
      "part-00000-0b84335c-e66f-4cbf-809e-43307b402ad5-c000.csv\r\n",
      "part-00000-0de79da5-4668-4a26-b6cf-4de6222d9bb9-c000.csv\r\n",
      "part-00000-0f1d0ff6-5fc3-4394-8682-28717d549f35-c000.csv\r\n",
      "part-00000-0f56c082-bc83-46af-a6e5-5ef1dadc34c4-c000.csv\r\n",
      "part-00000-119cf740-3e5b-405d-a18b-927df0d387cf-c000.csv\r\n",
      "part-00000-12d813f7-5c1d-4baa-8b95-50c1a2c74899-c000.csv\r\n",
      "part-00000-13c009a7-25af-4a1f-9eba-2ad231a52610-c000.csv\r\n",
      "part-00000-1511214e-981a-4bdd-888a-ff127fc357b4-c000.csv\r\n",
      "part-00000-1683300e-f7a2-4496-b540-7ab0ca1786c3-c000.csv\r\n",
      "part-00000-18ef5a10-f30f-4043-b5af-8de57e5aa327-c000.csv\r\n",
      "part-00000-19473ee3-163c-4f75-a25a-9b880732b899-c000.csv\r\n",
      "part-00000-195ef0ea-c4cd-4941-97d5-8cfb31f80480-c000.csv\r\n",
      "part-00000-1966480f-a8f3-462c-8634-93d3774dde1a-c000.csv\r\n",
      "part-00000-19dc6ce5-08b1-46f7-b8e8-dc2899df108f-c000.csv\r\n",
      "part-00000-1b0255f2-6d9d-4650-8aab-b076e19d75b7-c000.csv\r\n",
      "part-00000-1b6bc147-72c8-4a1c-b288-b93101435dd2-c000.csv\r\n",
      "part-00000-1c04ac76-0463-4e29-9fc8-bd10656833d5-c000.csv\r\n",
      "part-00000-1c2ae02b-ef00-401a-9c1d-a7136aea8dbe-c000.csv\r\n",
      "part-00000-1c408e36-eeab-4118-9fcd-b421bf823e2c-c000.csv\r\n",
      "part-00000-1d589dcc-f83c-4532-aa34-2a1afa354b04-c000.csv\r\n",
      "part-00000-1d601e4b-f47e-4072-ac90-00aeb20637a9-c000.csv\r\n",
      "part-00000-1d7dbbbe-0e27-4fe6-82c5-5c996fe11564-c000.csv\r\n",
      "part-00000-1db7ac97-6259-4a41-819a-85e0ffc3d9b8-c000.csv\r\n",
      "part-00000-1dbd85ee-b28e-4f9a-999c-ea95a6af47d0-c000.csv\r\n",
      "part-00000-1f87045d-5720-47e7-980f-9ed2bfaa4dd2-c000.csv\r\n",
      "part-00000-1fcdac4e-9e62-40c8-bf43-76c5f7637e0f-c000.csv\r\n",
      "part-00000-20a85cba-b00c-4b31-8222-2e044eb9a84b-c000.csv\r\n",
      "part-00000-20e044ed-6282-490d-bf3f-3f17946935b4-c000.csv\r\n",
      "part-00000-2156e512-bc9d-44d0-b431-df6c47677f1a-c000.csv\r\n",
      "part-00000-21975fbd-ab18-4c9b-9156-447a8a595c6f-c000.csv\r\n",
      "part-00000-233dd3e0-b616-40a7-b50c-44df069df049-c000.csv\r\n",
      "part-00000-2373c378-7358-44bf-82d1-3cc87e666f34-c000.csv\r\n",
      "part-00000-249261ff-c8bb-41e0-94fd-8805f9536693-c000.csv\r\n",
      "part-00000-259dc53d-88f2-43a9-94a8-c854cdb3cd22-c000.csv\r\n",
      "part-00000-2683bc8f-cc8d-4191-901b-c8fc280bc1a4-c000.csv\r\n",
      "part-00000-277bc69e-f8b7-40df-8ad7-c8ea4b87aa22-c000.csv\r\n",
      "part-00000-28ddaaf1-a510-4cf2-9706-a02afb220b2a-c000.csv\r\n",
      "part-00000-29ece6e5-4eaf-40a9-aa3e-5d9d0f2272b8-c000.csv\r\n",
      "part-00000-2a236ca6-0d09-4d4a-9a31-db36ec3b19f5-c000.csv\r\n",
      "part-00000-2a9d24ff-8400-48bc-b6d6-8996e17eaecc-c000.csv\r\n",
      "part-00000-2c1750df-c6b7-4386-8bfd-3dc72e1f1e36-c000.csv\r\n",
      "part-00000-2dae8612-05b0-409e-8db7-a4a0d9df0bfc-c000.csv\r\n",
      "part-00000-2f82ebdd-4458-46cb-9339-8ffd060adfc8-c000.csv\r\n",
      "part-00000-3014ebba-3fd4-4c49-81d6-329803ac7875-c000.csv\r\n",
      "part-00000-307818eb-916b-4889-8ebc-6a7def859f5e-c000.csv\r\n",
      "part-00000-30e3f74d-36be-4cc4-b573-e1ff19962b48-c000.csv\r\n",
      "part-00000-3225024c-b7fb-493b-916c-0ea451e7e4da-c000.csv\r\n",
      "part-00000-329a52dc-6187-40c0-8c4f-4dfc397aecb2-c000.csv\r\n",
      "part-00000-32b64ab1-0f55-46de-8f04-5614e5e8b882-c000.csv\r\n",
      "part-00000-32ec7b69-1837-4456-b84d-c3d2f6e82d37-c000.csv\r\n",
      "part-00000-33cc7ed1-d5ab-4990-8873-668a6a427a39-c000.csv\r\n",
      "part-00000-341c8e6d-c65e-41d1-a7ca-67815b72b726-c000.csv\r\n",
      "part-00000-344a87f9-cec5-4075-b0bd-89115c5e8dee-c000.csv\r\n",
      "part-00000-34eebadb-0ff9-4656-b00c-6ccd275d86e6-c000.csv\r\n",
      "part-00000-35085562-6d67-4151-b17d-f50306be5518-c000.csv\r\n",
      "part-00000-35ce92df-2d3b-42e6-acf2-0faa79bd5a1f-c000.csv\r\n",
      "part-00000-36b4c8e2-6330-43f3-b6b4-73c9a8e77360-c000.csv\r\n",
      "part-00000-37c20378-0503-4a89-b506-1f3949019878-c000.csv\r\n",
      "part-00000-38e22ef6-41cc-4382-9801-8c25e145c295-c000.csv\r\n",
      "part-00000-3a12dc80-2621-40d8-94b4-6f358c1e14a4-c000.csv\r\n",
      "part-00000-3a265473-06d6-4bdc-aeac-5b125fb43a5a-c000.csv\r\n",
      "part-00000-3ac99af6-8d3a-4195-af79-268f4c4eb60b-c000.csv\r\n",
      "part-00000-3b63af15-abae-4819-bcd1-fbc21fad55d8-c000.csv\r\n",
      "part-00000-3be485cc-bb2a-4379-af59-847242c134dd-c000.csv\r\n",
      "part-00000-3d49d542-173e-454f-8cc1-6c4819cbf7e4-c000.csv\r\n",
      "part-00000-3da2f8d7-ede7-4d2f-8edf-ff1de298827f-c000.csv\r\n",
      "part-00000-3db50bc4-69ec-4b07-a97f-e5b7737ff051-c000.csv\r\n",
      "part-00000-3de0a5fb-5b34-40b8-9de8-91da0b041eb9-c000.csv\r\n",
      "part-00000-3e05ac2b-96ce-4061-9901-f8a38525da44-c000.csv\r\n",
      "part-00000-3e4e1c30-a405-453f-b15b-6ac77b53b071-c000.csv\r\n",
      "part-00000-402cfced-0fe8-48f1-8246-9c80b180683f-c000.csv\r\n",
      "part-00000-40a132e2-a653-4fcc-9286-7d2db2ec4f56-c000.csv\r\n",
      "part-00000-41a1531c-56d4-43bb-b349-25629178f81e-c000.csv\r\n",
      "part-00000-44957ca1-e322-4dc2-bd8e-a3ef07006e1f-c000.csv\r\n",
      "part-00000-44fc4495-1098-478d-9bc9-18ad9111d048-c000.csv\r\n",
      "part-00000-45514f9a-02e8-489c-a6a6-0a2d46d8fe72-c000.csv\r\n",
      "part-00000-45ba5b00-ec4a-4c3d-8f85-59b88f8bb628-c000.csv\r\n",
      "part-00000-463f4e4a-b848-4099-bef4-fe6273f03512-c000.csv\r\n",
      "part-00000-467e0e2c-415e-4982-a5b1-1f5bcfddd69b-c000.csv\r\n",
      "part-00000-485a51b7-3235-4939-9924-8c605ca00a39-c000.csv\r\n",
      "part-00000-490b8f47-9c4f-46e6-a820-22903fc92b64-c000.csv\r\n",
      "part-00000-49691cd2-b8de-46e0-b6b6-bd3368623397-c000.csv\r\n",
      "part-00000-49d98868-caf0-49cf-8765-23072391579e-c000.csv\r\n",
      "part-00000-49e49500-6763-4780-8999-5778e9397ddc-c000.csv\r\n",
      "part-00000-4aa55cf6-4d17-48a9-854d-309e77a2b3e4-c000.csv\r\n",
      "part-00000-4bdc325c-412f-4c44-8734-6e1ad903c939-c000.csv\r\n",
      "part-00000-4d165eb5-01a4-4427-8e8d-648a01b0f9d2-c000.csv\r\n",
      "part-00000-4dae278f-8a32-49db-9c64-d2493011e3ca-c000.csv\r\n",
      "part-00000-4e0f59ea-11d6-443f-a6cc-390b01888565-c000.csv\r\n",
      "part-00000-4e72e83b-e638-4b5b-9d19-c4c2daf0df2d-c000.csv\r\n",
      "part-00000-4ec41aa5-a18e-4420-9e7e-49393f19c2e8-c000.csv\r\n",
      "part-00000-4f2e301c-7f70-4482-bf51-301cad420c0d-c000.csv\r\n",
      "part-00000-4f693bb8-43cf-4cb3-b18b-16bfbfcd68a1-c000.csv\r\n",
      "part-00000-4f909b20-7637-45b2-9366-ada7679e2833-c000.csv\r\n",
      "part-00000-4fd4aec4-fad0-4dea-8910-452dd6d10262-c000.csv\r\n",
      "part-00000-5062f7bd-470e-4af1-9b60-2edc79e75d86-c000.csv\r\n",
      "part-00000-51cbe293-9590-4f14-a93f-01584976be43-c000.csv\r\n",
      "part-00000-522fcd67-d257-49ac-a746-064b78aee987-c000.csv\r\n",
      "part-00000-53557735-f263-4f73-9022-b825347df7ed-c000.csv\r\n",
      "part-00000-538402a0-e755-4a50-897a-692a24dcc0a8-c000.csv\r\n",
      "part-00000-5528cc1b-61dd-4c66-ac4d-31011650e81c-c000.csv\r\n",
      "part-00000-5621e844-cac4-413f-b5e3-23b5be784ef9-c000.csv\r\n",
      "part-00000-56bc0626-8676-40a0-b460-15a3d367f38d-c000.csv\r\n",
      "part-00000-5720c88b-a998-4d46-96bb-1ee2d5ff85c7-c000.csv\r\n",
      "part-00000-5795d50e-e1ec-4419-8a91-c37d8a394f09-c000.csv\r\n",
      "part-00000-59b9cc99-43f7-4cbd-a8a8-b00a2d88962f-c000.csv\r\n",
      "part-00000-59d45ed0-3a13-4b79-b6d9-73f33d48d6ea-c000.csv\r\n",
      "part-00000-59eec0ff-fb2c-499c-9d82-061db6f6aa61-c000.csv\r\n",
      "part-00000-5a68eec1-e812-4258-9019-57cbdc98899a-c000.csv\r\n",
      "part-00000-5b0f8e4b-4520-4031-8bbb-39a3bbc0eaf3-c000.csv\r\n",
      "part-00000-5b1cc04f-3c9b-4caa-83bb-256ba2549bbd-c000.csv\r\n",
      "part-00000-5d38d096-8971-49d2-80d0-3e504cdc5be5-c000.csv\r\n",
      "part-00000-5db6782a-43dd-4a44-884e-00c020431d74-c000.csv\r\n",
      "part-00000-5dc87d47-164c-41ab-8402-c667b46fa599-c000.csv\r\n",
      "part-00000-5e90cb48-51de-4546-b395-add8c70e18b9-c000.csv\r\n",
      "part-00000-5f7446a8-89e4-4bc6-b6d0-98167276e790-c000.csv\r\n",
      "part-00000-607c8c4c-5590-42c7-881d-fee0a831a9d3-c000.csv\r\n",
      "part-00000-623fa621-a224-401e-bcba-57dca9cdcd8f-c000.csv\r\n",
      "part-00000-62be9108-c92b-40f5-a650-ea44eb480026-c000.csv\r\n",
      "part-00000-63ef5234-5020-4718-8983-522eadc04be4-c000.csv\r\n",
      "part-00000-653053ef-6022-4402-8fe6-bb4475f733ad-c000.csv\r\n",
      "part-00000-6548adb1-d2db-4675-9a1a-f9d39ffb2dca-c000.csv\r\n",
      "part-00000-65d4f6b5-badb-4f22-a75b-82ff376a3b2e-c000.csv\r\n",
      "part-00000-68fa36cc-1c9e-41da-a917-97203139daf3-c000.csv\r\n",
      "part-00000-69170342-8cfd-4ab7-8562-b2edf899e456-c000.csv\r\n",
      "part-00000-696a877b-24b7-4b80-bb78-fa9121f0601e-c000.csv\r\n",
      "part-00000-6a11ce3a-baf5-4793-8d85-e89a03cf83ef-c000.csv\r\n",
      "part-00000-6cc88af9-9c61-4563-bb65-c80ab0b02b6d-c000.csv\r\n",
      "part-00000-6e466a1d-0bc6-4586-a191-b8b04f26ad49-c000.csv\r\n",
      "part-00000-6f3f8bc0-b029-4dd1-8126-7831ba8684e3-c000.csv\r\n",
      "part-00000-70317120-16d9-49b4-bbc9-470264b10588-c000.csv\r\n",
      "part-00000-70927a73-a0f1-45b2-a6f3-19df76bbec22-c000.csv\r\n",
      "part-00000-70ace687-e457-4633-89c7-cd1971c6e457-c000.csv\r\n",
      "part-00000-71a75ba3-f0d5-4fa9-b326-8383492e21a5-c000.csv\r\n",
      "part-00000-7223d49f-313c-4be9-9344-1e96d3ad8a53-c000.csv\r\n",
      "part-00000-727ddc7a-edc2-45a4-9c4f-e2fea597ebb8-c000.csv\r\n",
      "part-00000-7370ebb8-4bc2-4cc3-89a2-44865690ef13-c000.csv\r\n",
      "part-00000-74e60824-efa9-4a4c-ba06-7c5fa3485227-c000.csv\r\n",
      "part-00000-752fc601-f44a-404b-bc3b-a6d09cece887-c000.csv\r\n",
      "part-00000-759470ee-1c0f-4fc1-9abe-2c3782a02fe7-c000.csv\r\n",
      "part-00000-776cb639-29ef-493d-a3bb-e409c5406cc3-c000.csv\r\n",
      "part-00000-77885b70-7689-4b46-b8ed-a57d049c4014-c000.csv\r\n",
      "part-00000-77965158-95e1-4a66-9505-540333f97155-c000.csv\r\n",
      "part-00000-77bace3d-eece-435b-96d5-2247cec2443e-c000.csv\r\n",
      "part-00000-77fd4b30-bfcb-43b7-971a-e183ecbfab44-c000.csv\r\n",
      "part-00000-7883555c-d411-4b90-8a50-4ad6e75c6948-c000.csv\r\n",
      "part-00000-7948bc85-0b7a-4a62-b6be-b227afab2858-c000.csv\r\n",
      "part-00000-79dfacf4-e48c-4fcb-a725-87deef744261-c000.csv\r\n",
      "part-00000-7ae04131-2d13-4ac8-8730-f261b1b846e8-c000.csv\r\n",
      "part-00000-7ba565f7-5363-4223-8c5f-c1e09fa4bb54-c000.csv\r\n",
      "part-00000-7c6287fb-cd22-4b40-b185-859083e12c60-c000.csv\r\n",
      "part-00000-7dd863ac-4978-4076-90cf-bffca9b7e836-c000.csv\r\n",
      "part-00000-7e87704f-5903-4cef-a471-0c4de2ea8253-c000.csv\r\n",
      "part-00000-80a1c719-abf0-450f-81a5-812687ea0684-c000.csv\r\n",
      "part-00000-813e57c1-6b16-4b30-a201-94630894dba1-c000.csv\r\n",
      "part-00000-81aa387c-ea59-4dc6-a18c-62d4a7777c03-c000.csv\r\n",
      "part-00000-82b27c24-31cc-49ce-81df-81d8c4d596e3-c000.csv\r\n",
      "part-00000-841ac2dc-83be-4b12-a11a-b36dff450513-c000.csv\r\n",
      "part-00000-84778b10-afdf-4989-b7e2-b87d15f07fc5-c000.csv\r\n",
      "part-00000-84adc4af-0244-44b8-b37d-d5d706a6a7a6-c000.csv\r\n",
      "part-00000-84fbfd19-182a-4a78-8ec2-b93e85cd55aa-c000.csv\r\n",
      "part-00000-86361389-3d5e-470b-abb5-38dbef38a776-c000.csv\r\n",
      "part-00000-88a999c9-6755-4d22-aae5-3dd17bbb7c52-c000.csv\r\n",
      "part-00000-88c41326-9acd-49c7-9048-878142bc4c10-c000.csv\r\n",
      "part-00000-8932de3c-b9e6-4a64-85f4-23d776b9bcef-c000.csv\r\n",
      "part-00000-8af550f0-789d-415e-a119-a8b1a5de0334-c000.csv\r\n",
      "part-00000-8b029e08-39f2-46c9-9f72-e4a40e59cf70-c000.csv\r\n",
      "part-00000-8cdd0d83-2b07-4d92-885a-5175df5c80db-c000.csv\r\n",
      "part-00000-8dd811c3-f43a-432e-aba8-10d99de40107-c000.csv\r\n",
      "part-00000-8efc29a2-ad9d-4887-aaf5-3adfc0a7ac2d-c000.csv\r\n",
      "part-00000-8f721981-da86-4e1a-8d9d-c5a3256dfd27-c000.csv\r\n",
      "part-00000-8fbce803-8f69-410a-bada-79257ecc42a7-c000.csv\r\n",
      "part-00000-8fc1e7ad-ee1f-455b-bc24-9f796aa1a884-c000.csv\r\n",
      "part-00000-9114551c-dab6-48ac-893d-86ebc86e13a0-c000.csv\r\n",
      "part-00000-91c4c786-05e5-4cfd-b4b1-82946fedf7ad-c000.csv\r\n",
      "part-00000-91d9bc34-a0f6-4b95-abc5-0fcabb3aa9b4-c000.csv\r\n",
      "part-00000-92ce024f-b8a8-425a-9f62-ed8b1b1e0adc-c000.csv\r\n",
      "part-00000-937b3a67-d9f9-4417-8ad3-ed56520dde18-c000.csv\r\n",
      "part-00000-952e8e00-0d39-4e40-a19d-ae1aff09cc7b-c000.csv\r\n",
      "part-00000-9656e3d9-f206-4822-98ab-1862e6753276-c000.csv\r\n",
      "part-00000-987dac00-e942-4221-9851-553b90dbb9a0-c000.csv\r\n",
      "part-00000-9da9d852-305a-445f-beae-1bd4e2796c3c-c000.csv\r\n",
      "part-00000-9eafe684-8cab-4873-9897-8f5d0aaabb0a-c000.csv\r\n",
      "part-00000-9fc7786f-01da-4e9b-9bd3-1c9d256867a6-c000.csv\r\n",
      "part-00000-9fdbdab0-07e2-4257-b9d4-9340fe119f0b-c000.csv\r\n",
      "part-00000-a0078ba3-fc72-49a7-9f60-ab50de77dff7-c000.csv\r\n",
      "part-00000-a13ddf5b-fa81-44b8-9b03-1e1a6f2b5181-c000.csv\r\n",
      "part-00000-a2bb0718-d9ab-4cd2-a641-50ef381e0567-c000.csv\r\n",
      "part-00000-a2e1df0f-ce89-4267-a6f8-0faf803ae722-c000.csv\r\n",
      "part-00000-a453ac71-e467-4068-b9fe-de352c90516c-c000.csv\r\n",
      "part-00000-a54819ff-8f50-4b19-8899-1fc2978dfbcd-c000.csv\r\n",
      "part-00000-a5605774-658d-4554-8a3b-7eb97778b32c-c000.csv\r\n",
      "part-00000-a571a1ce-36e8-46be-ba83-c72e300249be-c000.csv\r\n",
      "part-00000-a66b5687-f8df-4f8e-9529-1c9891fe7614-c000.csv\r\n",
      "part-00000-a7aa50a1-877a-48fd-851e-fda6131814dd-c000.csv\r\n",
      "part-00000-a8241e5d-0d28-4af8-bb29-332e486cd906-c000.csv\r\n",
      "part-00000-a8de5d50-3726-43af-9267-e3febf5a5cf0-c000.csv\r\n",
      "part-00000-ab137d0e-7127-46bb-b967-d90a4ece805e-c000.csv\r\n",
      "part-00000-ab593d19-aead-417e-abee-cb546fa77f39-c000.csv\r\n",
      "part-00000-abbefb41-57b7-4d33-a131-2b9906ff156a-c000.csv\r\n",
      "part-00000-abfda03d-4eef-425c-b1ce-62db1c6f2857-c000.csv\r\n",
      "part-00000-ad02b312-e677-47f2-a9de-0699c40987fe-c000.csv\r\n",
      "part-00000-ade3221f-5d87-4df3-9a04-813683e9b51f-c000.csv\r\n",
      "part-00000-adeca484-a8c4-4552-9dcb-3303e59f3969-c000.csv\r\n",
      "part-00000-af634153-5740-49e1-8cbd-8a115f512953-c000.csv\r\n",
      "part-00000-af7485df-b83b-48aa-ae38-4b417368dbcd-c000.csv\r\n",
      "part-00000-b0a529b4-967b-4c42-a7df-68f4469b6b5f-c000.csv\r\n",
      "part-00000-b0ecd894-1b16-4de3-8302-0133e1a18583-c000.csv\r\n",
      "part-00000-b0f41ab4-0d3b-432e-bf82-c658318ed461-c000.csv\r\n",
      "part-00000-b2377abe-6116-41b4-8ee2-8022799b552d-c000.csv\r\n",
      "part-00000-b2c465b2-e41f-41dd-8fce-a3a16419ae83-c000.csv\r\n",
      "part-00000-b30308f6-dc43-47d4-a433-3fa7cdd49c06-c000.csv\r\n",
      "part-00000-b3172b7c-93a3-4768-87a0-17edf57ace8d-c000.csv\r\n",
      "part-00000-b48b7392-0159-4626-afef-544549dcb3c5-c000.csv\r\n",
      "part-00000-b4cef243-b9a8-4105-809e-9edb4bfb7090-c000.csv\r\n",
      "part-00000-b54baa2d-002f-4835-8b1d-e2643c3c6f0d-c000.csv\r\n",
      "part-00000-b5a2df22-7ded-4b19-8587-b69b5c11bfef-c000.csv\r\n",
      "part-00000-b5b8c611-8100-40f8-a92d-f13344194dc0-c000.csv\r\n",
      "part-00000-b83bf32e-f87b-40c4-b537-41965040087b-c000.csv\r\n",
      "part-00000-b8a6f47c-e397-4f0e-84f2-eb7c33fe0ac6-c000.csv\r\n",
      "part-00000-b8efe134-7990-4629-8198-9229f83fa03d-c000.csv\r\n",
      "part-00000-b999f7f0-de84-4b45-8a53-87050c5d9688-c000.csv\r\n",
      "part-00000-b9b45db3-c5d9-4edc-b702-10837a7916b5-c000.csv\r\n",
      "part-00000-bddb3929-4c84-42bd-bf46-3cfa98a3772b-c000.csv\r\n",
      "part-00000-bebde0b6-2990-4b93-aa58-fc90f8feea79-c000.csv\r\n",
      "part-00000-bed7e959-35ae-4179-9d14-c9aaf9515dee-c000.csv\r\n",
      "part-00000-c0e42cf6-86f3-4bfd-b7ab-6486d1c391c4-c000.csv\r\n",
      "part-00000-c1a606f7-f2a4-4bff-973e-8812f95fe0c8-c000.csv\r\n",
      "part-00000-c1e23e77-e591-4a16-9732-7862f7810fc1-c000.csv\r\n",
      "part-00000-c43d0264-3288-4b3e-987e-3d49725053d8-c000.csv\r\n",
      "part-00000-c460c0b0-57da-4a44-8f80-2c26220ca8ce-c000.csv\r\n",
      "part-00000-c497c3a6-a554-4669-918d-362c0c354e3f-c000.csv\r\n",
      "part-00000-c4f48adf-99be-4324-9cb1-01ac5ba85cbd-c000.csv\r\n",
      "part-00000-c575d419-f3f3-4535-838c-209019ddc45c-c000.csv\r\n",
      "part-00000-c62320ce-64c2-4f45-b2fa-2f7ad9c49d8e-c000.csv\r\n",
      "part-00000-c7ac8420-51c8-43bb-b4fc-1d9d058b70f5-c000.csv\r\n",
      "part-00000-c80b19f2-d240-4747-8cd1-9aa1581a6c92-c000.csv\r\n",
      "part-00000-cabcd335-d414-4dc8-82e5-2765c9118a6c-c000.csv\r\n",
      "part-00000-cc012319-aeae-457e-a32a-a3c88ba13c36-c000.csv\r\n",
      "part-00000-cc6b25c7-e5bb-4c32-b8d9-e6bf4945c1b8-c000.csv\r\n",
      "part-00000-cccad20d-2572-407c-a59a-11bc38dbb74d-c000.csv\r\n",
      "part-00000-ccda754d-9d56-4b58-b608-8580f1621910-c000.csv\r\n",
      "part-00000-cda4152c-53da-47fd-a470-32a60b1a2d30-c000.csv\r\n",
      "part-00000-ce2741d7-9ee8-4392-ab57-3d9837c3c57e-c000.csv\r\n",
      "part-00000-cf31d0a3-3103-4a6b-8f7a-3ed18a0c23a5-c000.csv\r\n",
      "part-00000-cfc90aac-3c27-483a-821d-ad7206b2fb71-c000.csv\r\n",
      "part-00000-cfd410b8-f92f-414f-88f2-862bd174736c-c000.csv\r\n",
      "part-00000-d025e9e4-3641-476c-83e3-85ba72fb9aaf-c000.csv\r\n",
      "part-00000-d0c35fe7-75b9-4bb8-9cc2-3c64c19e94fd-c000.csv\r\n",
      "part-00000-d0fa3def-f8ec-4494-867f-26908fa5ca93-c000.csv\r\n",
      "part-00000-d11d8da9-67bc-4ad8-b561-b7f3c448709c-c000.csv\r\n",
      "part-00000-d2cda98d-4ae3-469c-8b58-d93fcecd9da1-c000.csv\r\n",
      "part-00000-d416a1ea-a032-4ebb-95da-f6f1c18b77ad-c000.csv\r\n",
      "part-00000-d476b059-47ce-4b16-a682-460c92e14d32-c000.csv\r\n",
      "part-00000-d489851b-d268-42f3-9182-eab77487d605-c000.csv\r\n",
      "part-00000-d507f9ec-e8ac-4343-9688-24e389209bfa-c000.csv\r\n",
      "part-00000-d7c8aab4-8cb4-48a9-99b9-413da46771bd-c000.csv\r\n",
      "part-00000-da2b361f-544e-448d-b2e0-d3ae3e5bf53a-c000.csv\r\n",
      "part-00000-db7790ea-56b2-4923-ada5-e8fde9805cf4-c000.csv\r\n",
      "part-00000-dbb62e57-4c33-47b0-b302-99fde434660e-c000.csv\r\n",
      "part-00000-dc05954e-55c7-40d8-9757-503fb9232bdf-c000.csv\r\n",
      "part-00000-dc2bba8f-95c5-4645-9c13-35ae04fce113-c000.csv\r\n",
      "part-00000-dc822846-83d4-43ac-8dc9-f7254617af73-c000.csv\r\n",
      "part-00000-dce5739e-2871-4342-a2b0-a4731963291c-c000.csv\r\n",
      "part-00000-de632ceb-134c-4656-b2f7-98c2a077c2a7-c000.csv\r\n",
      "part-00000-df30cf78-e060-431a-be42-c472972c43e1-c000.csv\r\n",
      "part-00000-df60e002-24ac-4cb1-af25-5d4101d6fbfa-c000.csv\r\n",
      "part-00000-dff2db27-b5db-4f91-a52a-723f890e780b-c000.csv\r\n",
      "part-00000-e0abde17-c15d-464e-a74d-24b0c1b8b0f8-c000.csv\r\n",
      "part-00000-e32e23c5-2d09-4c1e-bac2-0f6c60a40dab-c000.csv\r\n",
      "part-00000-e424423f-d71e-49b8-baeb-ac0fd618583b-c000.csv\r\n",
      "part-00000-e718f677-6063-45ae-a73d-523a732002eb-c000.csv\r\n",
      "part-00000-e73f6f09-59c3-4261-aa99-1d2cf8f4b82f-c000.csv\r\n",
      "part-00000-e7fc2582-90af-4ced-b3f8-ee2ae96bd131-c000.csv\r\n",
      "part-00000-e86da31f-fc14-49aa-9580-bf0b7cfbc460-c000.csv\r\n",
      "part-00000-e8a785af-ac17-4c66-baed-e109c5937ed9-c000.csv\r\n",
      "part-00000-e8b518fa-59e8-4c42-966a-87df380f27ac-c000.csv\r\n",
      "part-00000-e95ea5bb-bc2a-4b96-b3f6-0e758048eb23-c000.csv\r\n",
      "part-00000-eba543a6-f700-44a2-ac3c-735ba8fb1d03-c000.csv\r\n",
      "part-00000-ed08fa8d-44fb-42ce-93f8-3808a12e7789-c000.csv\r\n",
      "part-00000-edfcc837-d510-42b4-9f10-42218c611e19-c000.csv\r\n",
      "part-00000-ee329b26-73a7-4e5d-a428-358da0876cb3-c000.csv\r\n",
      "part-00000-ee49891c-998e-45c1-bd82-00b947ec4941-c000.csv\r\n",
      "part-00000-efcb0452-06c5-4de1-a51b-5a8ba4669f12-c000.csv\r\n",
      "part-00000-f11c56b4-fb8c-42ee-8de4-6001318c0d25-c000.csv\r\n",
      "part-00000-f1a09b76-e626-4e65-9cf3-653650ef3a1c-c000.csv\r\n",
      "part-00000-f27c49d1-6838-4280-a826-2e0146384892-c000.csv\r\n",
      "part-00000-f31c3217-1bba-43c7-95b7-5a7538c8029c-c000.csv\r\n",
      "part-00000-f3b8de00-d179-40b5-a800-73acc27de7cc-c000.csv\r\n",
      "part-00000-f4ad02c7-00bd-44d4-8bb1-29daa51b4897-c000.csv\r\n",
      "part-00000-f5ed02eb-174b-4704-9f8e-4b723e6adbb7-c000.csv\r\n",
      "part-00000-f685fd65-4e14-44de-b938-bce170b926ef-c000.csv\r\n",
      "part-00000-f6b4c9fb-e528-4132-8f40-c18a0b399142-c000.csv\r\n",
      "part-00000-f6e29248-e588-4a60-8aa6-b6287e49026e-c000.csv\r\n",
      "part-00000-f7ec8498-8349-49fe-9c02-d1f5b411472b-c000.csv\r\n",
      "part-00000-f8736510-7712-4925-abe6-7b4af01c8e4a-c000.csv\r\n",
      "part-00000-f8dc8ca5-631b-4fc4-84fa-b8c66e269381-c000.csv\r\n",
      "part-00000-f8e5a534-c908-4cc7-8ca2-69b5dccd92e5-c000.csv\r\n",
      "part-00000-f8f03b51-7cde-498e-8d7d-ef5770e2969d-c000.csv\r\n",
      "part-00000-fb0e6d15-82d0-40f7-9632-e48b1c8c2c08-c000.csv\r\n",
      "part-00000-fb1b6456-b5a8-4b0e-997d-50f162ed87f2-c000.csv\r\n",
      "part-00000-fb68bcb3-a773-4e19-8119-bdb5866c3df9-c000.csv\r\n",
      "part-00000-fd43de87-0b3e-41ad-806f-9562c8affd5c-c000.csv\r\n",
      "part-00000-fe00262e-ee57-4910-8035-2d789863703d-c000.csv\r\n",
      "part-00000-fe1db7f9-7db5-45aa-82c8-63e2b5e739c0-c000.csv\r\n",
      "part-00000-feafb097-8ae0-4f78-81e7-7efb0c563901-c000.csv\r\n",
      "part-00000-ff609ae7-da70-4509-a7fb-2eebea901f98-c000.csv\r\n"
     ]
    },
    {
     "data": {
      "application/javascript": [
       "\n",
       "            setTimeout(function() {\n",
       "                var nbb_cell_id = 7;\n",
       "                var nbb_unformatted_code = \"!cd data/paysim/ && ls\";\n",
       "                var nbb_formatted_code = \"!cd data/paysim/ && ls\";\n",
       "                var nbb_cells = Jupyter.notebook.get_cells();\n",
       "                for (var i = 0; i < nbb_cells.length; ++i) {\n",
       "                    if (nbb_cells[i].input_prompt_number == nbb_cell_id) {\n",
       "                        if (nbb_cells[i].get_text() == nbb_unformatted_code) {\n",
       "                             nbb_cells[i].set_text(nbb_formatted_code);\n",
       "                        }\n",
       "                        break;\n",
       "                    }\n",
       "                }\n",
       "            }, 500);\n",
       "            "
      ],
      "text/plain": [
       "<IPython.core.display.Javascript object>"
      ]
     },
     "metadata": {},
     "output_type": "display_data"
    }
   ],
   "source": [
    "!cd data/paysim/ && ls"
   ]
  },
  {
   "cell_type": "code",
   "execution_count": 10,
   "metadata": {},
   "outputs": [
    {
     "data": {
      "application/javascript": [
       "\n",
       "            setTimeout(function() {\n",
       "                var nbb_cell_id = 10;\n",
       "                var nbb_unformatted_code = \"part = spark.read.csv(\\n    \\\"data/paysim/part-00000-19473ee3-163c-4f75-a25a-9b880732b899-c000.csv\\\",\\n    header=True,\\n    inferSchema=True,\\n)\";\n",
       "                var nbb_formatted_code = \"part = spark.read.csv(\\n    \\\"data/paysim/part-00000-19473ee3-163c-4f75-a25a-9b880732b899-c000.csv\\\",\\n    header=True,\\n    inferSchema=True,\\n)\";\n",
       "                var nbb_cells = Jupyter.notebook.get_cells();\n",
       "                for (var i = 0; i < nbb_cells.length; ++i) {\n",
       "                    if (nbb_cells[i].input_prompt_number == nbb_cell_id) {\n",
       "                        if (nbb_cells[i].get_text() == nbb_unformatted_code) {\n",
       "                             nbb_cells[i].set_text(nbb_formatted_code);\n",
       "                        }\n",
       "                        break;\n",
       "                    }\n",
       "                }\n",
       "            }, 500);\n",
       "            "
      ],
      "text/plain": [
       "<IPython.core.display.Javascript object>"
      ]
     },
     "metadata": {},
     "output_type": "display_data"
    }
   ],
   "source": [
    "part = spark.read.csv(\n",
    "    \"data/paysim/part-00000-19473ee3-163c-4f75-a25a-9b880732b899-c000.csv\",\n",
    "    header=True,\n",
    "    inferSchema=True,\n",
    ")"
   ]
  },
  {
   "cell_type": "code",
   "execution_count": 11,
   "metadata": {},
   "outputs": [
    {
     "name": "stdout",
     "output_type": "stream",
     "text": [
      "+----+-----+\n",
      "|step|count|\n",
      "+----+-----+\n",
      "| 647|   10|\n",
      "+----+-----+\n",
      "\n"
     ]
    },
    {
     "data": {
      "application/javascript": [
       "\n",
       "            setTimeout(function() {\n",
       "                var nbb_cell_id = 11;\n",
       "                var nbb_unformatted_code = \"part.groupBy(\\\"step\\\").count().show()\";\n",
       "                var nbb_formatted_code = \"part.groupBy(\\\"step\\\").count().show()\";\n",
       "                var nbb_cells = Jupyter.notebook.get_cells();\n",
       "                for (var i = 0; i < nbb_cells.length; ++i) {\n",
       "                    if (nbb_cells[i].input_prompt_number == nbb_cell_id) {\n",
       "                        if (nbb_cells[i].get_text() == nbb_unformatted_code) {\n",
       "                             nbb_cells[i].set_text(nbb_formatted_code);\n",
       "                        }\n",
       "                        break;\n",
       "                    }\n",
       "                }\n",
       "            }, 500);\n",
       "            "
      ],
      "text/plain": [
       "<IPython.core.display.Javascript object>"
      ]
     },
     "metadata": {},
     "output_type": "display_data"
    }
   ],
   "source": [
    "part.groupBy(\"step\").count().show()"
   ]
  },
  {
   "cell_type": "markdown",
   "metadata": {},
   "source": [
    "Let’s create a streaming version of this input, we'll read each file one by one as if it was a stream."
   ]
  },
  {
   "cell_type": "code",
   "execution_count": 12,
   "metadata": {},
   "outputs": [
    {
     "data": {
      "application/javascript": [
       "\n",
       "            setTimeout(function() {\n",
       "                var nbb_cell_id = 12;\n",
       "                var nbb_unformatted_code = \"dataSchema = part.schema\";\n",
       "                var nbb_formatted_code = \"dataSchema = part.schema\";\n",
       "                var nbb_cells = Jupyter.notebook.get_cells();\n",
       "                for (var i = 0; i < nbb_cells.length; ++i) {\n",
       "                    if (nbb_cells[i].input_prompt_number == nbb_cell_id) {\n",
       "                        if (nbb_cells[i].get_text() == nbb_unformatted_code) {\n",
       "                             nbb_cells[i].set_text(nbb_formatted_code);\n",
       "                        }\n",
       "                        break;\n",
       "                    }\n",
       "                }\n",
       "            }, 500);\n",
       "            "
      ],
      "text/plain": [
       "<IPython.core.display.Javascript object>"
      ]
     },
     "metadata": {},
     "output_type": "display_data"
    }
   ],
   "source": [
    "dataSchema = part.schema"
   ]
  },
  {
   "cell_type": "code",
   "execution_count": 13,
   "metadata": {},
   "outputs": [
    {
     "data": {
      "text/plain": [
       "StructType(List(StructField(step,IntegerType,true),StructField(type,StringType,true),StructField(amount,DoubleType,true),StructField(nameOrig,StringType,true),StructField(oldbalanceOrg,DoubleType,true),StructField(newbalanceOrig,DoubleType,true),StructField(nameDest,StringType,true),StructField(oldbalanceDest,DoubleType,true),StructField(newbalanceDest,DoubleType,true)))"
      ]
     },
     "execution_count": 13,
     "metadata": {},
     "output_type": "execute_result"
    },
    {
     "data": {
      "application/javascript": [
       "\n",
       "            setTimeout(function() {\n",
       "                var nbb_cell_id = 13;\n",
       "                var nbb_unformatted_code = \"dataSchema\";\n",
       "                var nbb_formatted_code = \"dataSchema\";\n",
       "                var nbb_cells = Jupyter.notebook.get_cells();\n",
       "                for (var i = 0; i < nbb_cells.length; ++i) {\n",
       "                    if (nbb_cells[i].input_prompt_number == nbb_cell_id) {\n",
       "                        if (nbb_cells[i].get_text() == nbb_unformatted_code) {\n",
       "                             nbb_cells[i].set_text(nbb_formatted_code);\n",
       "                        }\n",
       "                        break;\n",
       "                    }\n",
       "                }\n",
       "            }, 500);\n",
       "            "
      ],
      "text/plain": [
       "<IPython.core.display.Javascript object>"
      ]
     },
     "metadata": {},
     "output_type": "display_data"
    }
   ],
   "source": [
    "dataSchema"
   ]
  },
  {
   "cell_type": "markdown",
   "metadata": {},
   "source": [
    "*maxFilesPerTrigger* allows you to control how quickly Spark will read all of the files in the folder. \n",
    "In this example we're limiting the flow of the stream to one file per trigger.\n"
   ]
  },
  {
   "cell_type": "code",
   "execution_count": 14,
   "metadata": {},
   "outputs": [
    {
     "data": {
      "application/javascript": [
       "\n",
       "            setTimeout(function() {\n",
       "                var nbb_cell_id = 14;\n",
       "                var nbb_unformatted_code = \"streaming = (\\n    spark.readStream.schema(dataSchema)\\n    .option(\\\"maxFilesPerTrigger\\\", 1)\\n    .csv(\\\"data/paysim/\\\")\\n)\";\n",
       "                var nbb_formatted_code = \"streaming = (\\n    spark.readStream.schema(dataSchema)\\n    .option(\\\"maxFilesPerTrigger\\\", 1)\\n    .csv(\\\"data/paysim/\\\")\\n)\";\n",
       "                var nbb_cells = Jupyter.notebook.get_cells();\n",
       "                for (var i = 0; i < nbb_cells.length; ++i) {\n",
       "                    if (nbb_cells[i].input_prompt_number == nbb_cell_id) {\n",
       "                        if (nbb_cells[i].get_text() == nbb_unformatted_code) {\n",
       "                             nbb_cells[i].set_text(nbb_formatted_code);\n",
       "                        }\n",
       "                        break;\n",
       "                    }\n",
       "                }\n",
       "            }, 500);\n",
       "            "
      ],
      "text/plain": [
       "<IPython.core.display.Javascript object>"
      ]
     },
     "metadata": {},
     "output_type": "display_data"
    }
   ],
   "source": [
    "streaming = (\n",
    "    spark.readStream.schema(dataSchema)\n",
    "    .option(\"maxFilesPerTrigger\", 1)\n",
    "    .csv(\"data/paysim/\")\n",
    ")"
   ]
  },
  {
   "cell_type": "markdown",
   "metadata": {},
   "source": [
    "Let's set up a transformation.\n",
    "\n",
    "The nameDest column is the recipient ID of the transaction."
   ]
  },
  {
   "cell_type": "code",
   "execution_count": 15,
   "metadata": {},
   "outputs": [
    {
     "data": {
      "application/javascript": [
       "\n",
       "            setTimeout(function() {\n",
       "                var nbb_cell_id = 15;\n",
       "                var nbb_unformatted_code = \"dest_count = streaming.groupBy(\\\"nameDest\\\").count().orderBy(F.desc(\\\"count\\\"))\";\n",
       "                var nbb_formatted_code = \"dest_count = streaming.groupBy(\\\"nameDest\\\").count().orderBy(F.desc(\\\"count\\\"))\";\n",
       "                var nbb_cells = Jupyter.notebook.get_cells();\n",
       "                for (var i = 0; i < nbb_cells.length; ++i) {\n",
       "                    if (nbb_cells[i].input_prompt_number == nbb_cell_id) {\n",
       "                        if (nbb_cells[i].get_text() == nbb_unformatted_code) {\n",
       "                             nbb_cells[i].set_text(nbb_formatted_code);\n",
       "                        }\n",
       "                        break;\n",
       "                    }\n",
       "                }\n",
       "            }, 500);\n",
       "            "
      ],
      "text/plain": [
       "<IPython.core.display.Javascript object>"
      ]
     },
     "metadata": {},
     "output_type": "display_data"
    }
   ],
   "source": [
    "dest_count = streaming.groupBy(\"nameDest\").count().orderBy(F.desc(\"count\"))"
   ]
  },
  {
   "cell_type": "markdown",
   "metadata": {},
   "source": [
    "Now that we have our transformation, we need to specify an output sink for the results. For this example, we're going to write to a memory sink which keeps the results in memory.\n",
    "\n",
    "We also need to define how Spark will output that data. In this example, we'll use the complete output mode (rewriting all of the keys along with their counts after every trigger).\n",
    "\n",
    "In this example we won't include activityQuery.awaitTermination() because it is required only to prevent the driver process from terminating when the stream is active.\n",
    "\n",
    "So in order to be able to run this locally in a notebook we won't include it."
   ]
  },
  {
   "cell_type": "code",
   "execution_count": 16,
   "metadata": {
    "scrolled": true
   },
   "outputs": [
    {
     "name": "stdout",
     "output_type": "stream",
     "text": [
      "+-----------+-----+\n",
      "|   nameDest|count|\n",
      "+-----------+-----+\n",
      "| C319921943|    2|\n",
      "| C803352127|    2|\n",
      "|C1887077333|    2|\n",
      "+-----------+-----+\n",
      "\n",
      "+-----------+-----+\n",
      "|   nameDest|count|\n",
      "+-----------+-----+\n",
      "| C319921943|    2|\n",
      "| C803352127|    2|\n",
      "|C1887077333|    2|\n",
      "| C763794011|    2|\n",
      "| C488343370|    2|\n",
      "+-----------+-----+\n",
      "\n",
      "+-----------+-----+\n",
      "|   nameDest|count|\n",
      "+-----------+-----+\n",
      "| C319921943|    2|\n",
      "| C803352127|    2|\n",
      "|C1887077333|    2|\n",
      "| C763794011|    2|\n",
      "| C488343370|    2|\n",
      "+-----------+-----+\n",
      "\n",
      "+-----------+-----+\n",
      "|   nameDest|count|\n",
      "+-----------+-----+\n",
      "| C319921943|    2|\n",
      "| C803352127|    2|\n",
      "|C1887077333|    2|\n",
      "| C763794011|    2|\n",
      "| C488343370|    2|\n",
      "+-----------+-----+\n",
      "\n",
      "+-----------+-----+\n",
      "|   nameDest|count|\n",
      "+-----------+-----+\n",
      "| C587204551|    2|\n",
      "|C1015743493|    2|\n",
      "| C359227905|    2|\n",
      "|C1850343194|    2|\n",
      "| C379236140|    2|\n",
      "| C319921943|    2|\n",
      "|C1377194794|    2|\n",
      "|C1455885936|    2|\n",
      "| C803352127|    2|\n",
      "| C325257804|    2|\n",
      "+-----------+-----+\n",
      "only showing top 10 rows\n",
      "\n",
      "+-----------+-----+\n",
      "|   nameDest|count|\n",
      "+-----------+-----+\n",
      "| C587204551|    2|\n",
      "|C1015743493|    2|\n",
      "| C359227905|    2|\n",
      "|C1850343194|    2|\n",
      "| C379236140|    2|\n",
      "| C319921943|    2|\n",
      "|C1377194794|    2|\n",
      "|C1455885936|    2|\n",
      "| C803352127|    2|\n",
      "| C325257804|    2|\n",
      "+-----------+-----+\n",
      "only showing top 10 rows\n",
      "\n",
      "+-----------+-----+\n",
      "|   nameDest|count|\n",
      "+-----------+-----+\n",
      "| C587204551|    2|\n",
      "|C1015743493|    2|\n",
      "| C359227905|    2|\n",
      "|C1850343194|    2|\n",
      "| C379236140|    2|\n",
      "| C319921943|    2|\n",
      "|C1377194794|    2|\n",
      "|C1455885936|    2|\n",
      "| C803352127|    2|\n",
      "| C325257804|    2|\n",
      "+-----------+-----+\n",
      "only showing top 10 rows\n",
      "\n",
      "+-----------+-----+\n",
      "|   nameDest|count|\n",
      "+-----------+-----+\n",
      "| C587204551|    2|\n",
      "|C1015743493|    2|\n",
      "| C359227905|    2|\n",
      "|C1850343194|    2|\n",
      "| C379236140|    2|\n",
      "| C319921943|    2|\n",
      "|C1377194794|    2|\n",
      "|C1455885936|    2|\n",
      "| C803352127|    2|\n",
      "| C325257804|    2|\n",
      "+-----------+-----+\n",
      "only showing top 10 rows\n",
      "\n",
      "+-----------+-----+\n",
      "|   nameDest|count|\n",
      "+-----------+-----+\n",
      "| C587204551|    2|\n",
      "|C1015743493|    2|\n",
      "| C359227905|    2|\n",
      "|C1850343194|    2|\n",
      "| C379236140|    2|\n",
      "| C319921943|    2|\n",
      "|C1377194794|    2|\n",
      "|C1455885936|    2|\n",
      "| C803352127|    2|\n",
      "| C325257804|    2|\n",
      "+-----------+-----+\n",
      "only showing top 10 rows\n",
      "\n",
      "+-----------+-----+\n",
      "|   nameDest|count|\n",
      "+-----------+-----+\n",
      "| C587204551|    2|\n",
      "|C1015743493|    2|\n",
      "| C359227905|    2|\n",
      "|C1850343194|    2|\n",
      "| C379236140|    2|\n",
      "| C319921943|    2|\n",
      "|C1377194794|    2|\n",
      "|C1455885936|    2|\n",
      "| C803352127|    2|\n",
      "| C325257804|    2|\n",
      "+-----------+-----+\n",
      "only showing top 10 rows\n",
      "\n",
      "+-----------+-----+\n",
      "|   nameDest|count|\n",
      "+-----------+-----+\n",
      "| C587204551|    2|\n",
      "|C1015743493|    2|\n",
      "| C359227905|    2|\n",
      "|C1850343194|    2|\n",
      "| C379236140|    2|\n",
      "| C319921943|    2|\n",
      "|C1377194794|    2|\n",
      "|C1455885936|    2|\n",
      "| C803352127|    2|\n",
      "| C325257804|    2|\n",
      "+-----------+-----+\n",
      "only showing top 10 rows\n",
      "\n",
      "+-----------+-----+\n",
      "|   nameDest|count|\n",
      "+-----------+-----+\n",
      "| C587204551|    2|\n",
      "|C1015743493|    2|\n",
      "| C359227905|    2|\n",
      "|C1850343194|    2|\n",
      "| C379236140|    2|\n",
      "| C319921943|    2|\n",
      "|C1377194794|    2|\n",
      "|C1455885936|    2|\n",
      "| C803352127|    2|\n",
      "| C325257804|    2|\n",
      "+-----------+-----+\n",
      "only showing top 10 rows\n",
      "\n",
      "+-----------+-----+\n",
      "|   nameDest|count|\n",
      "+-----------+-----+\n",
      "|  C59741756|    4|\n",
      "|C1505584626|    4|\n",
      "| C392045706|    4|\n",
      "|C2051223495|    4|\n",
      "|C1415086760|    4|\n",
      "| C442014622|    4|\n",
      "|C1124405901|    4|\n",
      "|C1143329404|    3|\n",
      "| C972000700|    3|\n",
      "| C452438968|    3|\n",
      "+-----------+-----+\n",
      "only showing top 10 rows\n",
      "\n",
      "+-----------+-----+\n",
      "|   nameDest|count|\n",
      "+-----------+-----+\n",
      "|  C59741756|    4|\n",
      "|C1505584626|    4|\n",
      "| C392045706|    4|\n",
      "|C2051223495|    4|\n",
      "|C1415086760|    4|\n",
      "| C442014622|    4|\n",
      "|C1124405901|    4|\n",
      "|C1143329404|    3|\n",
      "| C972000700|    3|\n",
      "| C452438968|    3|\n",
      "+-----------+-----+\n",
      "only showing top 10 rows\n",
      "\n",
      "+-----------+-----+\n",
      "|   nameDest|count|\n",
      "+-----------+-----+\n",
      "| C232678930|    5|\n",
      "|C2001708620|    5|\n",
      "| C452438968|    4|\n",
      "|C1523329696|    4|\n",
      "|C1265000705|    4|\n",
      "| C371558806|    4|\n",
      "| C825299799|    4|\n",
      "|C1807112061|    4|\n",
      "|  C59741756|    4|\n",
      "|C1198980643|    4|\n",
      "+-----------+-----+\n",
      "only showing top 10 rows\n",
      "\n",
      "+-----------+-----+\n",
      "|   nameDest|count|\n",
      "+-----------+-----+\n",
      "| C232678930|    5|\n",
      "|C2001708620|    5|\n",
      "| C452438968|    4|\n",
      "|C1523329696|    4|\n",
      "|C1265000705|    4|\n",
      "| C371558806|    4|\n",
      "| C825299799|    4|\n",
      "|C1807112061|    4|\n",
      "|  C59741756|    4|\n",
      "|C1198980643|    4|\n",
      "+-----------+-----+\n",
      "only showing top 10 rows\n",
      "\n",
      "+-----------+-----+\n",
      "|   nameDest|count|\n",
      "+-----------+-----+\n",
      "| C232678930|    5|\n",
      "|C2001708620|    5|\n",
      "| C452438968|    4|\n",
      "|C1523329696|    4|\n",
      "|C1265000705|    4|\n",
      "| C371558806|    4|\n",
      "| C825299799|    4|\n",
      "|C1807112061|    4|\n",
      "|  C59741756|    4|\n",
      "|C1198980643|    4|\n",
      "+-----------+-----+\n",
      "only showing top 10 rows\n",
      "\n",
      "+-----------+-----+\n",
      "|   nameDest|count|\n",
      "+-----------+-----+\n",
      "| C232678930|    5|\n",
      "|C2001708620|    5|\n",
      "| C452438968|    4|\n",
      "|C1523329696|    4|\n",
      "|C1265000705|    4|\n",
      "| C371558806|    4|\n",
      "| C825299799|    4|\n",
      "|C1807112061|    4|\n",
      "|  C59741756|    4|\n",
      "|C1198980643|    4|\n",
      "+-----------+-----+\n",
      "only showing top 10 rows\n",
      "\n",
      "+-----------+-----+\n",
      "|   nameDest|count|\n",
      "+-----------+-----+\n",
      "| C232678930|    5|\n",
      "|C2001708620|    5|\n",
      "| C452438968|    4|\n",
      "|C1523329696|    4|\n",
      "|C1265000705|    4|\n",
      "| C371558806|    4|\n",
      "| C825299799|    4|\n",
      "|C1807112061|    4|\n",
      "|  C59741756|    4|\n",
      "|C1198980643|    4|\n",
      "+-----------+-----+\n",
      "only showing top 10 rows\n",
      "\n",
      "+-----------+-----+\n",
      "|   nameDest|count|\n",
      "+-----------+-----+\n",
      "| C232678930|    5|\n",
      "|C2001708620|    5|\n",
      "| C452438968|    4|\n",
      "|C1523329696|    4|\n",
      "|C1265000705|    4|\n",
      "| C371558806|    4|\n",
      "| C825299799|    4|\n",
      "|C1807112061|    4|\n",
      "|  C59741756|    4|\n",
      "|C1198980643|    4|\n",
      "+-----------+-----+\n",
      "only showing top 10 rows\n",
      "\n",
      "+-----------+-----+\n",
      "|   nameDest|count|\n",
      "+-----------+-----+\n",
      "| C232678930|    5|\n",
      "|C2001708620|    5|\n",
      "| C452438968|    4|\n",
      "|C1523329696|    4|\n",
      "|C1265000705|    4|\n",
      "| C371558806|    4|\n",
      "| C825299799|    4|\n",
      "|C1807112061|    4|\n",
      "|  C59741756|    4|\n",
      "|C1198980643|    4|\n",
      "+-----------+-----+\n",
      "only showing top 10 rows\n",
      "\n",
      "+-----------+-----+\n",
      "|   nameDest|count|\n",
      "+-----------+-----+\n",
      "|C1439741185|    5|\n",
      "| C232678930|    5|\n",
      "|C2001708620|    5|\n",
      "| C705073130|    5|\n",
      "|C1158993188|    5|\n",
      "|C1180703810|    5|\n",
      "| C452438968|    4|\n",
      "|C1591677662|    4|\n",
      "| C570252116|    4|\n",
      "|C1523329696|    4|\n",
      "+-----------+-----+\n",
      "only showing top 10 rows\n",
      "\n",
      "+-----------+-----+\n",
      "|   nameDest|count|\n",
      "+-----------+-----+\n",
      "|C1439741185|    5|\n",
      "| C232678930|    5|\n",
      "|C2001708620|    5|\n",
      "| C705073130|    5|\n",
      "|C1158993188|    5|\n",
      "|C1180703810|    5|\n",
      "| C452438968|    4|\n",
      "|C1591677662|    4|\n",
      "| C570252116|    4|\n",
      "|C1523329696|    4|\n",
      "+-----------+-----+\n",
      "only showing top 10 rows\n",
      "\n",
      "+-----------+-----+\n",
      "|   nameDest|count|\n",
      "+-----------+-----+\n",
      "|C1439741185|    5|\n",
      "| C232678930|    5|\n",
      "|C2001708620|    5|\n",
      "| C705073130|    5|\n",
      "|C1158993188|    5|\n",
      "|C1180703810|    5|\n",
      "| C452438968|    4|\n",
      "|C1591677662|    4|\n",
      "| C570252116|    4|\n",
      "|C1523329696|    4|\n",
      "+-----------+-----+\n",
      "only showing top 10 rows\n",
      "\n",
      "+-----------+-----+\n",
      "|   nameDest|count|\n",
      "+-----------+-----+\n",
      "| C705073130|    6|\n",
      "|C1499142229|    5|\n",
      "|C1384940806|    5|\n",
      "|C1807112061|    5|\n",
      "|C2095344673|    5|\n",
      "| C225852166|    5|\n",
      "|C1580364156|    5|\n",
      "|C1620933925|    5|\n",
      "|C1015063475|    5|\n",
      "|C1857999018|    5|\n",
      "+-----------+-----+\n",
      "only showing top 10 rows\n",
      "\n",
      "+-----------+-----+\n",
      "|   nameDest|count|\n",
      "+-----------+-----+\n",
      "| C705073130|    6|\n",
      "|C1499142229|    5|\n",
      "|C1384940806|    5|\n",
      "|C2095344673|    5|\n",
      "|C1807112061|    5|\n",
      "| C225852166|    5|\n",
      "|C1580364156|    5|\n",
      "|C1620933925|    5|\n",
      "|C1015063475|    5|\n",
      "|C1857999018|    5|\n",
      "+-----------+-----+\n",
      "only showing top 10 rows\n",
      "\n",
      "+-----------+-----+\n",
      "|   nameDest|count|\n",
      "+-----------+-----+\n",
      "| C705073130|    6|\n",
      "|C1499142229|    5|\n",
      "|C1384940806|    5|\n",
      "|C2095344673|    5|\n",
      "|C1807112061|    5|\n",
      "| C225852166|    5|\n",
      "|C1580364156|    5|\n",
      "|C1620933925|    5|\n",
      "|C1015063475|    5|\n",
      "|C1857999018|    5|\n",
      "+-----------+-----+\n",
      "only showing top 10 rows\n",
      "\n"
     ]
    },
    {
     "ename": "KeyboardInterrupt",
     "evalue": "",
     "output_type": "error",
     "traceback": [
      "\u001b[0;31m---------------------------------------------------------------------------\u001b[0m",
      "\u001b[0;31mKeyboardInterrupt\u001b[0m                         Traceback (most recent call last)",
      "\u001b[0;32m<ipython-input-16-328a7330476c>\u001b[0m in \u001b[0;36m<module>\u001b[0;34m\u001b[0m\n\u001b[1;32m     16\u001b[0m     )\n\u001b[1;32m     17\u001b[0m     \u001b[0;32mif\u001b[0m \u001b[0m_df\u001b[0m\u001b[0;34m.\u001b[0m\u001b[0mcount\u001b[0m\u001b[0;34m(\u001b[0m\u001b[0;34m)\u001b[0m \u001b[0;34m>\u001b[0m \u001b[0;36m0\u001b[0m\u001b[0;34m:\u001b[0m\u001b[0;34m\u001b[0m\u001b[0;34m\u001b[0m\u001b[0m\n\u001b[0;32m---> 18\u001b[0;31m         \u001b[0m_df\u001b[0m\u001b[0;34m.\u001b[0m\u001b[0mshow\u001b[0m\u001b[0;34m(\u001b[0m\u001b[0;36m10\u001b[0m\u001b[0;34m)\u001b[0m\u001b[0;34m\u001b[0m\u001b[0;34m\u001b[0m\u001b[0m\n\u001b[0m\u001b[1;32m     19\u001b[0m     \u001b[0mtime\u001b[0m\u001b[0;34m.\u001b[0m\u001b[0msleep\u001b[0m\u001b[0;34m(\u001b[0m\u001b[0;36m0.5\u001b[0m\u001b[0;34m)\u001b[0m\u001b[0;34m\u001b[0m\u001b[0;34m\u001b[0m\u001b[0m\n",
      "\u001b[0;32m~/anaconda3/envs/python37/lib/python3.7/site-packages/pyspark/sql/dataframe.py\u001b[0m in \u001b[0;36mshow\u001b[0;34m(self, n, truncate, vertical)\u001b[0m\n\u001b[1;32m    438\u001b[0m         \"\"\"\n\u001b[1;32m    439\u001b[0m         \u001b[0;32mif\u001b[0m \u001b[0misinstance\u001b[0m\u001b[0;34m(\u001b[0m\u001b[0mtruncate\u001b[0m\u001b[0;34m,\u001b[0m \u001b[0mbool\u001b[0m\u001b[0;34m)\u001b[0m \u001b[0;32mand\u001b[0m \u001b[0mtruncate\u001b[0m\u001b[0;34m:\u001b[0m\u001b[0;34m\u001b[0m\u001b[0;34m\u001b[0m\u001b[0m\n\u001b[0;32m--> 440\u001b[0;31m             \u001b[0mprint\u001b[0m\u001b[0;34m(\u001b[0m\u001b[0mself\u001b[0m\u001b[0;34m.\u001b[0m\u001b[0m_jdf\u001b[0m\u001b[0;34m.\u001b[0m\u001b[0mshowString\u001b[0m\u001b[0;34m(\u001b[0m\u001b[0mn\u001b[0m\u001b[0;34m,\u001b[0m \u001b[0;36m20\u001b[0m\u001b[0;34m,\u001b[0m \u001b[0mvertical\u001b[0m\u001b[0;34m)\u001b[0m\u001b[0;34m)\u001b[0m\u001b[0;34m\u001b[0m\u001b[0;34m\u001b[0m\u001b[0m\n\u001b[0m\u001b[1;32m    441\u001b[0m         \u001b[0;32melse\u001b[0m\u001b[0;34m:\u001b[0m\u001b[0;34m\u001b[0m\u001b[0;34m\u001b[0m\u001b[0m\n\u001b[1;32m    442\u001b[0m             \u001b[0mprint\u001b[0m\u001b[0;34m(\u001b[0m\u001b[0mself\u001b[0m\u001b[0;34m.\u001b[0m\u001b[0m_jdf\u001b[0m\u001b[0;34m.\u001b[0m\u001b[0mshowString\u001b[0m\u001b[0;34m(\u001b[0m\u001b[0mn\u001b[0m\u001b[0;34m,\u001b[0m \u001b[0mint\u001b[0m\u001b[0;34m(\u001b[0m\u001b[0mtruncate\u001b[0m\u001b[0;34m)\u001b[0m\u001b[0;34m,\u001b[0m \u001b[0mvertical\u001b[0m\u001b[0;34m)\u001b[0m\u001b[0;34m)\u001b[0m\u001b[0;34m\u001b[0m\u001b[0;34m\u001b[0m\u001b[0m\n",
      "\u001b[0;32m~/anaconda3/envs/python37/lib/python3.7/site-packages/py4j/java_gateway.py\u001b[0m in \u001b[0;36m__call__\u001b[0;34m(self, *args)\u001b[0m\n\u001b[1;32m   1301\u001b[0m             \u001b[0mproto\u001b[0m\u001b[0;34m.\u001b[0m\u001b[0mEND_COMMAND_PART\u001b[0m\u001b[0;34m\u001b[0m\u001b[0;34m\u001b[0m\u001b[0m\n\u001b[1;32m   1302\u001b[0m \u001b[0;34m\u001b[0m\u001b[0m\n\u001b[0;32m-> 1303\u001b[0;31m         \u001b[0manswer\u001b[0m \u001b[0;34m=\u001b[0m \u001b[0mself\u001b[0m\u001b[0;34m.\u001b[0m\u001b[0mgateway_client\u001b[0m\u001b[0;34m.\u001b[0m\u001b[0msend_command\u001b[0m\u001b[0;34m(\u001b[0m\u001b[0mcommand\u001b[0m\u001b[0;34m)\u001b[0m\u001b[0;34m\u001b[0m\u001b[0;34m\u001b[0m\u001b[0m\n\u001b[0m\u001b[1;32m   1304\u001b[0m         return_value = get_return_value(\n\u001b[1;32m   1305\u001b[0m             answer, self.gateway_client, self.target_id, self.name)\n",
      "\u001b[0;32m~/anaconda3/envs/python37/lib/python3.7/site-packages/py4j/java_gateway.py\u001b[0m in \u001b[0;36msend_command\u001b[0;34m(self, command, retry, binary)\u001b[0m\n\u001b[1;32m   1031\u001b[0m         \u001b[0mconnection\u001b[0m \u001b[0;34m=\u001b[0m \u001b[0mself\u001b[0m\u001b[0;34m.\u001b[0m\u001b[0m_get_connection\u001b[0m\u001b[0;34m(\u001b[0m\u001b[0;34m)\u001b[0m\u001b[0;34m\u001b[0m\u001b[0;34m\u001b[0m\u001b[0m\n\u001b[1;32m   1032\u001b[0m         \u001b[0;32mtry\u001b[0m\u001b[0;34m:\u001b[0m\u001b[0;34m\u001b[0m\u001b[0;34m\u001b[0m\u001b[0m\n\u001b[0;32m-> 1033\u001b[0;31m             \u001b[0mresponse\u001b[0m \u001b[0;34m=\u001b[0m \u001b[0mconnection\u001b[0m\u001b[0;34m.\u001b[0m\u001b[0msend_command\u001b[0m\u001b[0;34m(\u001b[0m\u001b[0mcommand\u001b[0m\u001b[0;34m)\u001b[0m\u001b[0;34m\u001b[0m\u001b[0;34m\u001b[0m\u001b[0m\n\u001b[0m\u001b[1;32m   1034\u001b[0m             \u001b[0;32mif\u001b[0m \u001b[0mbinary\u001b[0m\u001b[0;34m:\u001b[0m\u001b[0;34m\u001b[0m\u001b[0;34m\u001b[0m\u001b[0m\n\u001b[1;32m   1035\u001b[0m                 \u001b[0;32mreturn\u001b[0m \u001b[0mresponse\u001b[0m\u001b[0;34m,\u001b[0m \u001b[0mself\u001b[0m\u001b[0;34m.\u001b[0m\u001b[0m_create_connection_guard\u001b[0m\u001b[0;34m(\u001b[0m\u001b[0mconnection\u001b[0m\u001b[0;34m)\u001b[0m\u001b[0;34m\u001b[0m\u001b[0;34m\u001b[0m\u001b[0m\n",
      "\u001b[0;32m~/anaconda3/envs/python37/lib/python3.7/site-packages/py4j/java_gateway.py\u001b[0m in \u001b[0;36msend_command\u001b[0;34m(self, command)\u001b[0m\n\u001b[1;32m   1198\u001b[0m \u001b[0;34m\u001b[0m\u001b[0m\n\u001b[1;32m   1199\u001b[0m         \u001b[0;32mtry\u001b[0m\u001b[0;34m:\u001b[0m\u001b[0;34m\u001b[0m\u001b[0;34m\u001b[0m\u001b[0m\n\u001b[0;32m-> 1200\u001b[0;31m             \u001b[0manswer\u001b[0m \u001b[0;34m=\u001b[0m \u001b[0msmart_decode\u001b[0m\u001b[0;34m(\u001b[0m\u001b[0mself\u001b[0m\u001b[0;34m.\u001b[0m\u001b[0mstream\u001b[0m\u001b[0;34m.\u001b[0m\u001b[0mreadline\u001b[0m\u001b[0;34m(\u001b[0m\u001b[0;34m)\u001b[0m\u001b[0;34m[\u001b[0m\u001b[0;34m:\u001b[0m\u001b[0;34m-\u001b[0m\u001b[0;36m1\u001b[0m\u001b[0;34m]\u001b[0m\u001b[0;34m)\u001b[0m\u001b[0;34m\u001b[0m\u001b[0;34m\u001b[0m\u001b[0m\n\u001b[0m\u001b[1;32m   1201\u001b[0m             \u001b[0mlogger\u001b[0m\u001b[0;34m.\u001b[0m\u001b[0mdebug\u001b[0m\u001b[0;34m(\u001b[0m\u001b[0;34m\"Answer received: {0}\"\u001b[0m\u001b[0;34m.\u001b[0m\u001b[0mformat\u001b[0m\u001b[0;34m(\u001b[0m\u001b[0manswer\u001b[0m\u001b[0;34m)\u001b[0m\u001b[0;34m)\u001b[0m\u001b[0;34m\u001b[0m\u001b[0;34m\u001b[0m\u001b[0m\n\u001b[1;32m   1202\u001b[0m             \u001b[0;32mif\u001b[0m \u001b[0manswer\u001b[0m\u001b[0;34m.\u001b[0m\u001b[0mstartswith\u001b[0m\u001b[0;34m(\u001b[0m\u001b[0mproto\u001b[0m\u001b[0;34m.\u001b[0m\u001b[0mRETURN_MESSAGE\u001b[0m\u001b[0;34m)\u001b[0m\u001b[0;34m:\u001b[0m\u001b[0;34m\u001b[0m\u001b[0;34m\u001b[0m\u001b[0m\n",
      "\u001b[0;32m~/anaconda3/envs/python37/lib/python3.7/socket.py\u001b[0m in \u001b[0;36mreadinto\u001b[0;34m(self, b)\u001b[0m\n\u001b[1;32m    587\u001b[0m         \u001b[0;32mwhile\u001b[0m \u001b[0;32mTrue\u001b[0m\u001b[0;34m:\u001b[0m\u001b[0;34m\u001b[0m\u001b[0;34m\u001b[0m\u001b[0m\n\u001b[1;32m    588\u001b[0m             \u001b[0;32mtry\u001b[0m\u001b[0;34m:\u001b[0m\u001b[0;34m\u001b[0m\u001b[0;34m\u001b[0m\u001b[0m\n\u001b[0;32m--> 589\u001b[0;31m                 \u001b[0;32mreturn\u001b[0m \u001b[0mself\u001b[0m\u001b[0;34m.\u001b[0m\u001b[0m_sock\u001b[0m\u001b[0;34m.\u001b[0m\u001b[0mrecv_into\u001b[0m\u001b[0;34m(\u001b[0m\u001b[0mb\u001b[0m\u001b[0;34m)\u001b[0m\u001b[0;34m\u001b[0m\u001b[0;34m\u001b[0m\u001b[0m\n\u001b[0m\u001b[1;32m    590\u001b[0m             \u001b[0;32mexcept\u001b[0m \u001b[0mtimeout\u001b[0m\u001b[0;34m:\u001b[0m\u001b[0;34m\u001b[0m\u001b[0;34m\u001b[0m\u001b[0m\n\u001b[1;32m    591\u001b[0m                 \u001b[0mself\u001b[0m\u001b[0;34m.\u001b[0m\u001b[0m_timeout_occurred\u001b[0m \u001b[0;34m=\u001b[0m \u001b[0;32mTrue\u001b[0m\u001b[0;34m\u001b[0m\u001b[0;34m\u001b[0m\u001b[0m\n",
      "\u001b[0;31mKeyboardInterrupt\u001b[0m: "
     ]
    },
    {
     "data": {
      "application/javascript": [
       "\n",
       "            setTimeout(function() {\n",
       "                var nbb_cell_id = 16;\n",
       "                var nbb_unformatted_code = \"activityQuery = (\\n    dest_count.writeStream.queryName(\\\"dest_counts\\\")\\n    .format(\\\"memory\\\")\\n    .outputMode(\\\"complete\\\")\\n    .start()\\n)\\n\\n# include this in production\\n# activityQuery.awaitTermination()\\n\\nimport time\\n\\nfor x in range(50):\\n    _df = spark.sql(\\n        \\\"SELECT * FROM dest_counts WHERE nameDest != 'nameDest' AND count >= 2\\\"\\n    )\\n    if _df.count() > 0:\\n        _df.show(10)\\n    time.sleep(0.5)\";\n",
       "                var nbb_formatted_code = \"activityQuery = (\\n    dest_count.writeStream.queryName(\\\"dest_counts\\\")\\n    .format(\\\"memory\\\")\\n    .outputMode(\\\"complete\\\")\\n    .start()\\n)\\n\\n# include this in production\\n# activityQuery.awaitTermination()\\n\\nimport time\\n\\nfor x in range(50):\\n    _df = spark.sql(\\n        \\\"SELECT * FROM dest_counts WHERE nameDest != 'nameDest' AND count >= 2\\\"\\n    )\\n    if _df.count() > 0:\\n        _df.show(10)\\n    time.sleep(0.5)\";\n",
       "                var nbb_cells = Jupyter.notebook.get_cells();\n",
       "                for (var i = 0; i < nbb_cells.length; ++i) {\n",
       "                    if (nbb_cells[i].input_prompt_number == nbb_cell_id) {\n",
       "                        if (nbb_cells[i].get_text() == nbb_unformatted_code) {\n",
       "                             nbb_cells[i].set_text(nbb_formatted_code);\n",
       "                        }\n",
       "                        break;\n",
       "                    }\n",
       "                }\n",
       "            }, 500);\n",
       "            "
      ],
      "text/plain": [
       "<IPython.core.display.Javascript object>"
      ]
     },
     "metadata": {},
     "output_type": "display_data"
    }
   ],
   "source": [
    "activityQuery = (\n",
    "    dest_count.writeStream.queryName(\"dest_counts\")\n",
    "    .format(\"memory\")\n",
    "    .outputMode(\"complete\")\n",
    "    .start()\n",
    ")\n",
    "\n",
    "# include this in production\n",
    "# activityQuery.awaitTermination()\n",
    "\n",
    "import time\n",
    "\n",
    "for x in range(50):\n",
    "    _df = spark.sql(\n",
    "        \"SELECT * FROM dest_counts WHERE nameDest != 'nameDest' AND count >= 2\"\n",
    "    )\n",
    "    if _df.count() > 0:\n",
    "        _df.show(10)\n",
    "    time.sleep(0.5)"
   ]
  },
  {
   "cell_type": "markdown",
   "metadata": {},
   "source": [
    "Check if stream is active"
   ]
  },
  {
   "cell_type": "code",
   "execution_count": 17,
   "metadata": {},
   "outputs": [
    {
     "data": {
      "text/plain": [
       "True"
      ]
     },
     "execution_count": 17,
     "metadata": {},
     "output_type": "execute_result"
    },
    {
     "data": {
      "application/javascript": [
       "\n",
       "            setTimeout(function() {\n",
       "                var nbb_cell_id = 17;\n",
       "                var nbb_unformatted_code = \"spark.streams.active[0].isActive\";\n",
       "                var nbb_formatted_code = \"spark.streams.active[0].isActive\";\n",
       "                var nbb_cells = Jupyter.notebook.get_cells();\n",
       "                for (var i = 0; i < nbb_cells.length; ++i) {\n",
       "                    if (nbb_cells[i].input_prompt_number == nbb_cell_id) {\n",
       "                        if (nbb_cells[i].get_text() == nbb_unformatted_code) {\n",
       "                             nbb_cells[i].set_text(nbb_formatted_code);\n",
       "                        }\n",
       "                        break;\n",
       "                    }\n",
       "                }\n",
       "            }, 500);\n",
       "            "
      ],
      "text/plain": [
       "<IPython.core.display.Javascript object>"
      ]
     },
     "metadata": {},
     "output_type": "display_data"
    }
   ],
   "source": [
    "spark.streams.active[0].isActive"
   ]
  },
  {
   "cell_type": "code",
   "execution_count": 18,
   "metadata": {},
   "outputs": [
    {
     "data": {
      "text/plain": [
       "{'message': 'Processing new data',\n",
       " 'isDataAvailable': True,\n",
       " 'isTriggerActive': True}"
      ]
     },
     "execution_count": 18,
     "metadata": {},
     "output_type": "execute_result"
    },
    {
     "data": {
      "application/javascript": [
       "\n",
       "            setTimeout(function() {\n",
       "                var nbb_cell_id = 18;\n",
       "                var nbb_unformatted_code = \"activityQuery.status\";\n",
       "                var nbb_formatted_code = \"activityQuery.status\";\n",
       "                var nbb_cells = Jupyter.notebook.get_cells();\n",
       "                for (var i = 0; i < nbb_cells.length; ++i) {\n",
       "                    if (nbb_cells[i].input_prompt_number == nbb_cell_id) {\n",
       "                        if (nbb_cells[i].get_text() == nbb_unformatted_code) {\n",
       "                             nbb_cells[i].set_text(nbb_formatted_code);\n",
       "                        }\n",
       "                        break;\n",
       "                    }\n",
       "                }\n",
       "            }, 500);\n",
       "            "
      ],
      "text/plain": [
       "<IPython.core.display.Javascript object>"
      ]
     },
     "metadata": {},
     "output_type": "display_data"
    }
   ],
   "source": [
    "activityQuery.status"
   ]
  },
  {
   "cell_type": "markdown",
   "metadata": {},
   "source": [
    "If we  want to turn off the stream we'll run activityQuery.stop() to reset the query for testing purposes."
   ]
  },
  {
   "cell_type": "code",
   "execution_count": 19,
   "metadata": {},
   "outputs": [
    {
     "data": {
      "application/javascript": [
       "\n",
       "            setTimeout(function() {\n",
       "                var nbb_cell_id = 19;\n",
       "                var nbb_unformatted_code = \"activityQuery.stop()\";\n",
       "                var nbb_formatted_code = \"activityQuery.stop()\";\n",
       "                var nbb_cells = Jupyter.notebook.get_cells();\n",
       "                for (var i = 0; i < nbb_cells.length; ++i) {\n",
       "                    if (nbb_cells[i].input_prompt_number == nbb_cell_id) {\n",
       "                        if (nbb_cells[i].get_text() == nbb_unformatted_code) {\n",
       "                             nbb_cells[i].set_text(nbb_formatted_code);\n",
       "                        }\n",
       "                        break;\n",
       "                    }\n",
       "                }\n",
       "            }, 500);\n",
       "            "
      ],
      "text/plain": [
       "<IPython.core.display.Javascript object>"
      ]
     },
     "metadata": {},
     "output_type": "display_data"
    }
   ],
   "source": [
    "activityQuery.stop()"
   ]
  },
  {
   "cell_type": "code",
   "execution_count": null,
   "metadata": {},
   "outputs": [],
   "source": []
  }
 ],
 "metadata": {
  "kernelspec": {
   "display_name": "Python 3",
   "language": "python",
   "name": "python3"
  },
  "language_info": {
   "codemirror_mode": {
    "name": "ipython",
    "version": 3
   },
   "file_extension": ".py",
   "mimetype": "text/x-python",
   "name": "python",
   "nbconvert_exporter": "python",
   "pygments_lexer": "ipython3",
   "version": "3.7.9"
  }
 },
 "nbformat": 4,
 "nbformat_minor": 4
}
